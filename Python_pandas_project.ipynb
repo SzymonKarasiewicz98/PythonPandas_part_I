{
 "cells": [
  {
   "attachments": {},
   "cell_type": "markdown",
   "metadata": {},
   "source": [
    "# Python pandas project cz. I"
   ]
  },
  {
   "attachments": {},
   "cell_type": "markdown",
   "metadata": {},
   "source": [
    "Celem tego projeku jest pokazania umiejętności wykorzystywania bibioteki Pandas do manipulacji (data manipulation ) i czyszczenia danych (data cleaning)"
   ]
  },
  {
   "cell_type": "code",
   "execution_count": null,
   "metadata": {},
   "outputs": [],
   "source": [
    "#W pierwszej kolejnosci importujemy Pandasa, tworzymy DataFrame i printujemy pierwsze 10 wynikow, aby zapoznać się z danymi\n",
    "\n",
    "import pandas as pd\n",
    "p='./ceny_produktow.csv'\n",
    "\n",
    "df=pd.read_csv(p ,sep=';', decimal='.')\n",
    "df.head(10) "
   ]
  },
  {
   "cell_type": "code",
   "execution_count": null,
   "metadata": {},
   "outputs": [],
   "source": [
    "# sprawdzamy unikatowe wartości dla kolumny Nazwa i widzimy, że jest Polska. Możemy ją odfiltorwać z DF, ponieważ potrzebujemy danych tylko z poszczególnych wojewódźtw\n",
    "\n",
    "df['Nazwa'].unique() "
   ]
  },
  {
   "cell_type": "code",
   "execution_count": null,
   "metadata": {},
   "outputs": [],
   "source": [
    "#tworzenie warunku, aby odfiltorwać wartość POLSKA i nadpisanie DF już z warunkiem\n",
    "\n",
    "w1=df['Nazwa'] != 'POLSKA'\n",
    "df=df[w1] \n",
    "df"
   ]
  },
  {
   "cell_type": "code",
   "execution_count": null,
   "metadata": {},
   "outputs": [],
   "source": [
    "#ten sam zabieg dla kolumny Rodzaje towarow. Widzimy ze jedna wartosc zawiera błędy ortograficzne i złą liczbę\n",
    "df['Rodzaje towarów'].unique() "
   ]
  },
  {
   "cell_type": "code",
   "execution_count": null,
   "metadata": {},
   "outputs": [],
   "source": [
    "# Zmiana wartosci na prawidlowa przy użyciu loc\n",
    "df.loc[df['Rodzaje towarów'] == 'jaja kóże śfierze - za 666szt.', 'Rodzaje towarów'] = 'jaja kurze swieze - za 12szt.' "
   ]
  },
  {
   "cell_type": "code",
   "execution_count": null,
   "metadata": {},
   "outputs": [],
   "source": [
    "#Ponowen sprawdzenie czy zmiana została zastosowana\n",
    "df['Rodzaje towarów'].unique() "
   ]
  },
  {
   "cell_type": "code",
   "execution_count": null,
   "metadata": {},
   "outputs": [],
   "source": [
    "#Sprawdzenie jakie typy danych mamy w kolumnach. Widzimy ze Data nie jest Datetime tylko object (string)\n",
    "df.info() "
   ]
  },
  {
   "cell_type": "code",
   "execution_count": null,
   "metadata": {},
   "outputs": [],
   "source": [
    "#Sprawdzamy jak zapisane sa daty i czy sa jakies dziwne daty --> '2099-13', '1888-0'\n",
    "df['Data'].unique() "
   ]
  },
  {
   "cell_type": "code",
   "execution_count": null,
   "metadata": {},
   "outputs": [],
   "source": [
    "#Filtrowanie danych wraz z sprawdzeniem czy daty zostaly odflitrowane \n",
    "w2 = (df['Data'] != '2099-13') & (df['Data'] != '1888-0')  \n",
    "df = df[w2]\n",
    "df['Data'].unique() \n",
    "#df.reset_index(inplace=True)"
   ]
  },
  {
   "cell_type": "code",
   "execution_count": null,
   "metadata": {},
   "outputs": [],
   "source": [
    "#Zamiana kolumny Data z typy string na Datetime oraz utworzenie nowych kolumn z rokiem, miesiacem oraz kwartalem\n",
    "from datetime import datetime \n",
    "\n",
    "df[\"Data\"] = pd.to_datetime(df['Data'])\n",
    "df['Miesiac'] = df['Data'].dt.month\n",
    "df['Rok'] = df['Data'].dt.year\n",
    "df['Kwartal'] = df['Data'].dt.quarter\n",
    "\n"
   ]
  },
  {
   "cell_type": "code",
   "execution_count": null,
   "metadata": {},
   "outputs": [],
   "source": [
    "#Zmiana nazw koloumn z polskich na angielskie i wyprintowanie 1 wiersza z nowymi kolumnami\n",
    "df.columns=('province', 'product type', 'currency','ID', 'product line', 'value', 'date', 'month', 'year', 'quarter') \n",
    "df.head(1) "
   ]
  },
  {
   "cell_type": "code",
   "execution_count": null,
   "metadata": {},
   "outputs": [],
   "source": [
    "#Sprawdzamy unikatowe wartosci w currency i widzimy, że niektóre wartości są w EUR. Chcemy je zmienić na zł, ale również obliczyć nową wartość adekwatna do zł\n",
    "df['currency'].unique() "
   ]
  },
  {
   "cell_type": "code",
   "execution_count": null,
   "metadata": {},
   "outputs": [],
   "source": [
    "#zapamietajmy że dla indexu 26 wartośc wynosiła 0.669880 EUR. Później sprawdzimy czy zostało to prawidłowo przeliczone\n",
    "w3=df['currency'] =='EUR'\n",
    "df[w3] "
   ]
  },
  {
   "cell_type": "code",
   "execution_count": null,
   "metadata": {},
   "outputs": [],
   "source": [
    "#Przyjmijmy dla obliczen ze 1EUR = 4.5 PLN\n",
    "df.loc[w3, 'value'] = df.loc[w3, 'value'] * 4.5 "
   ]
  },
  {
   "cell_type": "code",
   "execution_count": null,
   "metadata": {},
   "outputs": [],
   "source": [
    "#Szukamy wczesniej zapisanego przykladu dla indexu = 26 i widzimy ze wartosc zostala zmieniona. Pozostaje zamienic w kolumnie currency EUR na zl \n",
    "check = df.query('index == 26') \n",
    "check"
   ]
  },
  {
   "cell_type": "code",
   "execution_count": null,
   "metadata": {},
   "outputs": [],
   "source": [
    "#Pozostaja nam zamiana wartosci z EUR na zł w kolumnie currency\n",
    "df.loc[w3, 'currency'] = 'zł' "
   ]
  },
  {
   "cell_type": "code",
   "execution_count": null,
   "metadata": {},
   "outputs": [],
   "source": [
    "#Sprawdzenie czy w kolumnie currency mamy juz tylko zł\n",
    "df['currency'].unique() "
   ]
  },
  {
   "cell_type": "code",
   "execution_count": null,
   "metadata": {},
   "outputs": [],
   "source": [
    "#Printujemy znowu dane i widzimy, ze w kolumanch product typ i product line nie zawsze mamy wartosci. \n",
    "df.head(10) "
   ]
  },
  {
   "cell_type": "code",
   "execution_count": null,
   "metadata": {},
   "outputs": [],
   "source": [
    "#Sprawdzamy czy jest to schemat, gdy wartość product type jest NaN to wartość w productline jest uzupełniona \n",
    "df['product type'].isna().value_counts()"
   ]
  },
  {
   "cell_type": "code",
   "execution_count": null,
   "metadata": {},
   "outputs": [],
   "source": [
    "df.loc[df['product line'].isna(), 'product type'].isna().value_counts()"
   ]
  },
  {
   "cell_type": "code",
   "execution_count": null,
   "metadata": {},
   "outputs": [],
   "source": [
    "#Tworzymy nową kolumnę product z zawartościami z kolumny product type\n",
    "df['product']=df['product type']"
   ]
  },
  {
   "cell_type": "code",
   "execution_count": null,
   "metadata": {},
   "outputs": [],
   "source": [
    "#Dodajemy do kolumny product wartości z product line, ale tylko tam gdzie product line nie jest puste\n",
    "df.loc[df['product line'].notna(), 'product'] = df['product line']"
   ]
  },
  {
   "cell_type": "code",
   "execution_count": null,
   "metadata": {},
   "outputs": [],
   "source": [
    "#Sprawdzamy czy jakiekolwiej wartości w nowej kolumnie są puste\n",
    "df['product'].isna().value_counts()"
   ]
  },
  {
   "cell_type": "code",
   "execution_count": null,
   "metadata": {},
   "outputs": [],
   "source": [
    "#Usuwamy duplikaty z tabeli i nadpisujemy od razu nasz DF\n",
    "df=df.drop_duplicates()"
   ]
  },
  {
   "cell_type": "code",
   "execution_count": null,
   "metadata": {},
   "outputs": [],
   "source": [
    "#Usuwamy dwie kolumny z których stworzyliśmy nową kolumne product\n",
    "df.drop(['product type', 'product line'], axis=1, inplace=True)\n",
    "df.head(10)\n"
   ]
  },
  {
   "cell_type": "code",
   "execution_count": null,
   "metadata": {},
   "outputs": [],
   "source": [
    "#Zapisujemy nasze dane w formie CSV  jako Ceny_produktow_cleaned\n",
    "p='./Ceny_produktow_cleaned.csv'\n",
    "df.to_csv(p, sep=';',decimal='.', encoding='utf-8', index=False)"
   ]
  },
  {
   "cell_type": "code",
   "execution_count": null,
   "metadata": {},
   "outputs": [],
   "source": []
  }
 ],
 "metadata": {
  "kernelspec": {
   "display_name": "Python 3",
   "language": "python",
   "name": "python3"
  },
  "language_info": {
   "codemirror_mode": {
    "name": "ipython",
    "version": 3
   },
   "file_extension": ".py",
   "mimetype": "text/x-python",
   "name": "python",
   "nbconvert_exporter": "python",
   "pygments_lexer": "ipython3",
   "version": "3.11.4"
  },
  "orig_nbformat": 4,
  "vscode": {
   "interpreter": {
    "hash": "5238573367df39f7286bb46f9ff5f08f63a01a80960060ce41e3c79b190280fa"
   }
  }
 },
 "nbformat": 4,
 "nbformat_minor": 2
}
